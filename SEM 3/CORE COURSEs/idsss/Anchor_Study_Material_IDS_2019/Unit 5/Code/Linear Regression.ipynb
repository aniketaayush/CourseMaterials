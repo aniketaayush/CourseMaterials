{
 "cells": [
  {
   "cell_type": "code",
   "execution_count": 25,
   "metadata": {
    "collapsed": false
   },
   "outputs": [
    {
     "name": "stdout",
     "output_type": "stream",
     "text": [
      "y_hat =  -5129.02671282 + 21.3895120439 x\n",
      "0.996533014985\n"
     ]
    },
    {
     "data": {
      "text/plain": [
       "<matplotlib.collections.LineCollection at 0x7f43e18020f0>"
      ]
     },
     "execution_count": 25,
     "metadata": {},
     "output_type": "execute_result"
    },
    {
     "data": {
      "image/png": "[encoded data removed]",
      "text/plain": [
       "<matplotlib.figure.Figure at 0x7f43e1802320>"
      ]
     },
     "metadata": {},
     "output_type": "display_data"
    }
   ],
   "source": [
    "%matplotlib inline\n",
    "import matplotlib.pyplot as plt\n",
    "from scipy.stats import pearsonr\n",
    "import numpy as np\n",
    "from sklearn.metrics import r2_score\n",
    "\n",
    "x = np.array([284.5, 407.5, 512.0, 551.0, 578.5, 697.0, 746.5])\n",
    "y = np.array([1255, 3390, 5560, 6670, 7160, 9820, 11030])\n",
    "\n",
    "#plt.plot(x,y,'ro')\n",
    "b1 , b0 = np.polyfit(x,y, deg = 1)\n",
    "print('y_hat = ', b0 , '+', b1,'x')\n",
    "yp = b0 + b1 * x\n",
    "#plt.plot(x, yp)\n",
    "#plt.show()\n",
    "\n",
    "#coefficient of determination\n",
    "print(r2_score(y,yp))\n",
    "\n",
    "#plt.plot(y, yp, 'ro')\n",
    "\n",
    "residuals = y - yp\n",
    "plt.plot(yp, residuals, 'ro')\n",
    "plt.hlines(0, 0, 12000)"
   ]
  },
  {
   "cell_type": "code",
   "execution_count": 14,
   "metadata": {
    "collapsed": false
   },
   "outputs": [
    {
     "data": {
      "text/plain": [
       "[<matplotlib.lines.Line2D at 0x7f43e72057b8>]"
      ]
     },
     "execution_count": 14,
     "metadata": {},
     "output_type": "execute_result"
    },
    {
     "data": {
      "image/png": "[encoded data removed]",
      "text/plain": [
       "<matplotlib.figure.Figure at 0x7f43e7205cf8>"
      ]
     },
     "metadata": {},
     "output_type": "display_data"
    }
   ],
   "source": [
    "%matplotlib inline\n",
    "import matplotlib.pyplot as plt\n",
    "from scipy.stats import pearsonr\n",
    "import numpy as np\n",
    "from sklearn.metrics import r2_score\n",
    "import pandas as pd\n",
    "\n",
    "df = pd.read_csv('Ex1.csv')\n",
    "\n",
    "x = df[\"x\"]\n",
    "y = df[\"y\"]\n",
    "\n",
    "b1 , b0 = np.polyfit(x,y, deg=1)\n",
    "yp = b0 + b1 * x\n",
    "plt.plot(x, y, 'ro')\n",
    "plt.plot(x, yp)"
   ]
  }
 ],
 "metadata": {
  "kernelspec": {
   "display_name": "Python 3",
   "language": "python",
   "name": "python3"
  },
  "language_info": {
   "codemirror_mode": {
    "name": "ipython",
    "version": 3
   },
   "file_extension": ".py",
   "mimetype": "text/x-python",
   "name": "python",
   "nbconvert_exporter": "python",
   "pygments_lexer": "ipython3",
   "version": "3.6.0"
  }
 },
 "nbformat": 4,
 "nbformat_minor": 1
}
