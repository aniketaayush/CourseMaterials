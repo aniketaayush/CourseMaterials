{
 "cells": [
  {
   "cell_type": "code",
   "execution_count": 42,
   "metadata": {
    "collapsed": true
   },
   "outputs": [],
   "source": [
    "import numpy as np \n",
    "import matplotlib.pyplot as plt\n",
    "from math import sqrt\n",
    "from sklearn import linear_model\n",
    "from sklearn.metrics import mean_squared_error as RMSE"
   ]
  },
  {
   "cell_type": "code",
   "execution_count": 49,
   "metadata": {},
   "outputs": [
    {
     "name": "stdout",
     "output_type": "stream",
     "text": [
      "b_0 :  1.23636363636\n",
      "b_1 :  1.1696969697\n",
      "RMSE: 0.56\n"
     ]
    },
    {
     "data": {
      "image/png": "[encoded data removed]",
      "text/plain": [
       "<matplotlib.figure.Figure at 0x7f6adc4a5d68>"
      ]
     },
     "metadata": {},
     "output_type": "display_data"
    }
   ],
   "source": [
    "# hard coded way\n",
    "\n",
    "def linear_regression(x, y): \n",
    "    \n",
    "    n = np.size(x) \n",
    "  \n",
    "    # mean of x and y vector \n",
    "    m_x, m_y = np.mean(x), np.mean(y) \n",
    "  \n",
    "    # calculating cross-deviation and deviation about x \n",
    "    #SS_xy = np.sum(y*x - n*m_y*m_x) \n",
    "    #SS_xx = np.sum(x*x - n*m_x*m_x)\n",
    "    \n",
    "    SS_xy = np.sum((x-m_x) * (y-m_y)) \n",
    "    SS_xx = np.sum((x-m_x) ** 2)\n",
    "  \n",
    "    # calculating regression coefficients \n",
    "    b_1 = SS_xy / SS_xx \n",
    "    b_0 = m_y - b_1*m_x\n",
    "    print('b_0 : ', b_0)\n",
    "    print('b_1 : ', b_1)\n",
    "    \n",
    "    # predicted response vector \n",
    "    y_preds = b_0 + b_1*x\n",
    "    \n",
    "    print(\"RMSE: %.2f\" % RMSE(y, y_preds))\n",
    "    \n",
    "    # plotting the actual points as scatter plot \n",
    "    plt.scatter(x, y, color = \"m\", \n",
    "               marker = \"o\", s = 30) \n",
    "  \n",
    "    # plotting the regression line \n",
    "    plt.plot(x, y_preds, color = \"g\") \n",
    "  \n",
    "    # putting labels \n",
    "    plt.xlabel('x') \n",
    "    plt.ylabel('y') \n",
    "  \n",
    "    # function to show plot \n",
    "    plt.show()\n",
    "    \n",
    "x = np.array([0, 1, 2, 3, 4, 5, 6, 7, 8, 9]) \n",
    "y = np.array([1, 3, 2, 5, 7, 8, 8, 9, 10, 12]) \n",
    "linear_regression(x, y)"
   ]
  },
  {
   "cell_type": "code",
   "execution_count": 60,
   "metadata": {},
   "outputs": [
    {
     "name": "stdout",
     "output_type": "stream",
     "text": [
      "Coefficients: \n",
      " [ 1.16969697]\n",
      "RMSE: 0.56\n"
     ]
    },
    {
     "data": {
      "image/png": "[encoded data removed]",
      "text/plain": [
       "<matplotlib.figure.Figure at 0x7f6adc4dfb70>"
      ]
     },
     "metadata": {},
     "output_type": "display_data"
    }
   ],
   "source": [
    "#using python in built functions\n",
    "\n",
    "def linear_regression(x, y):\n",
    "    x = [[i] for i in x]\n",
    "    # Create linear regression object\n",
    "    regr = linear_model.LinearRegression()\n",
    "\n",
    "    # Train the model using the training sets\n",
    "    regr.fit(x, y)\n",
    "    \n",
    "    #prediction \n",
    "    y_preds = regr.predict(x)\n",
    "    \n",
    "    print('Coefficients: \\n', regr.coef_)\n",
    "    print(\"RMSE: %.2f\" % RMSE(y, y_preds))\n",
    "    \n",
    "    plt.scatter(x, y,  color='m')\n",
    "    plt.plot(x, y_preds, color='g')\n",
    "    plt.show()\n",
    "    \n",
    "x = [0, 1, 2, 3, 4, 5, 6, 7, 8, 9]\n",
    "y = [1, 3, 2, 5, 7, 8, 8, 9, 10, 12] \n",
    "linear_regression(x, y)"
   ]
  },
  {
   "cell_type": "code",
   "execution_count": null,
   "metadata": {
    "collapsed": true
   },
   "outputs": [],
   "source": []
  }
 ],
 "metadata": {
  "kernelspec": {
   "display_name": "Python 3",
   "language": "python",
   "name": "python3"
  },
  "language_info": {
   "codemirror_mode": {
    "name": "ipython",
    "version": 3
   },
   "file_extension": ".py",
   "mimetype": "text/x-python",
   "name": "python",
   "nbconvert_exporter": "python",
   "pygments_lexer": "ipython3",
   "version": "3.6.1"
  }
 },
 "nbformat": 4,
 "nbformat_minor": 2
}
