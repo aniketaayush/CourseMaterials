{
 "cells": [
  {
   "cell_type": "code",
   "execution_count": 1,
   "metadata": {
    "collapsed": false
   },
   "outputs": [
    {
     "name": "stdout",
     "output_type": "stream",
     "text": [
      "[0.017391816463484651, 0.044021589881325027, 0.088783511529018769, 0.14268384199523187, 0.18273171535910021, 0.18649221437768732, 0.15167570676999842, 0.098303891684449307, 0.050769829820274559, 0.020892603849901104]\n",
      "Power_divergenceResult(statistic=7.1652073136495877, pvalue=0.61992358134687642)\n",
      "Obsv \t\t Exp\n",
      "3.0 \t\t 1.73918164635\n",
      "4.0 \t\t 4.40215898813\n",
      "10.0 \t\t 8.8783511529\n",
      "9.0 \t\t 14.2683841995\n",
      "25.0 \t\t 18.2731715359\n",
      "17.0 \t\t 18.6492214378\n",
      "13.0 \t\t 15.167570677\n",
      "9.0 \t\t 9.83038916844\n",
      "7.0 \t\t 5.07698298203\n",
      "3.0 \t\t 2.08926038499\n"
     ]
    },
    {
     "data": {
      "image/png": "[encoded data removed]",
      "text/plain": [
       "<matplotlib.figure.Figure at 0x114db9da0>"
      ]
     },
     "metadata": {},
     "output_type": "display_data"
    }
   ],
   "source": [
    "%matplotlib inline\n",
    "import pandas as pd\n",
    "import matplotlib.pyplot as plt\n",
    "from math import sqrt\n",
    "import numpy as np\n",
    "from scipy.stats import norm, chisquare\n",
    "\n",
    "df = pd.read_csv('height-weight.csv')\n",
    "sample_size = 100\n",
    "nbins = 10\n",
    "\n",
    "sample = df.height.sample(sample_size)\n",
    "mean = np.mean(sample)\n",
    "sd = np.std(sample, ddof=1)\n",
    "\n",
    "obsv_count, bins, patches = plt.hist(sample, bins =nbins)\n",
    "\n",
    "#getting z scores for the bins\n",
    "z = [(x - mean)/sd for x in bins]\n",
    "\n",
    "#getting area between the z-scores\n",
    "prob = [norm.cdf(z[i+1]) - norm.cdf(z[i]) for i in range(nbins)]\n",
    "\n",
    "#getting expected count : sample_size * prob\n",
    "exp_count = [p * sample_size for p in prob]\n",
    "\n",
    "#performing chi square test\n",
    "test = chisquare(obsv_count, exp_count)\n",
    "print(test)\n",
    "\n",
    "print('Obsv','\\t\\t', 'Exp')\n",
    "for i in range(nbins):\n",
    "    print(obsv_count[i],'\\t\\t', exp_count[i])"
   ]
  },
  {
   "cell_type": "code",
   "execution_count": null,
   "metadata": {
    "collapsed": true
   },
   "outputs": [],
   "source": []
  }
 ],
 "metadata": {
  "kernelspec": {
   "display_name": "Python 3",
   "language": "python",
   "name": "python3"
  },
  "language_info": {
   "codemirror_mode": {
    "name": "ipython",
    "version": 3
   },
   "file_extension": ".py",
   "mimetype": "text/x-python",
   "name": "python",
   "nbconvert_exporter": "python",
   "pygments_lexer": "ipython3",
   "version": "3.6.0"
  }
 },
 "nbformat": 4,
 "nbformat_minor": 2
}
