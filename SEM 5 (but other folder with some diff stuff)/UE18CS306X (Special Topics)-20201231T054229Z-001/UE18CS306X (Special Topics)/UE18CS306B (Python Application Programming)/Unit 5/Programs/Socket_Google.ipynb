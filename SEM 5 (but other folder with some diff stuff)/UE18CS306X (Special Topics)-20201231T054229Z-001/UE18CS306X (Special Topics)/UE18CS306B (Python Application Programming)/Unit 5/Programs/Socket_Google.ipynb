{
 "cells": [
  {
   "cell_type": "code",
   "execution_count": 2,
   "metadata": {},
   "outputs": [
    {
     "name": "stdout",
     "output_type": "stream",
     "text": [
      "Socket successfully created\n",
      "172.217.163.68\n",
      "the socket has successfully connected to google on IP == 172.217.163.68\n",
      "the socket has successfully connected to google on port == 80\n"
     ]
    }
   ],
   "source": [
    "# An example script to connect to Google using socket \n",
    "# programming in Python \n",
    "import socket # for socket \n",
    "import sys \n",
    "\n",
    "try: \n",
    "    s = socket.socket(socket.AF_INET, socket.SOCK_STREAM) \n",
    "    print (\"Socket successfully created\")\n",
    "except socket.error as err: \n",
    "    print (\"socket creation failed with error %s\" %(err) )\n",
    "\n",
    "# default port for socket \n",
    "port = 80\n",
    "\n",
    "try: \n",
    "    host_ip = socket.gethostbyname('www.google.com')\n",
    "    print(host_ip)\n",
    "except socket.gaierror: \n",
    "\n",
    "    # this means could not resolve the host \n",
    "    print (\"there was an error resolving the host\")\n",
    "    sys.exit() \n",
    "\n",
    "# connecting to the server \n",
    "s.connect((host_ip, port)) \n",
    "\n",
    "print( \"the socket has successfully connected to google on IP == %s\" %(host_ip) )\n",
    "print( \"the socket has successfully connected to google on port == %s\" %(port) )\n"
   ]
  },
  {
   "cell_type": "code",
   "execution_count": null,
   "metadata": {},
   "outputs": [],
   "source": []
  },
  {
   "cell_type": "code",
   "execution_count": null,
   "metadata": {},
   "outputs": [],
   "source": []
  }
 ],
 "metadata": {
  "kernelspec": {
   "display_name": "Python 3",
   "language": "python",
   "name": "python3"
  },
  "language_info": {
   "codemirror_mode": {
    "name": "ipython",
    "version": 3
   },
   "file_extension": ".py",
   "mimetype": "text/x-python",
   "name": "python",
   "nbconvert_exporter": "python",
   "pygments_lexer": "ipython3",
   "version": "3.7.9"
  }
 },
 "nbformat": 4,
 "nbformat_minor": 4
}
