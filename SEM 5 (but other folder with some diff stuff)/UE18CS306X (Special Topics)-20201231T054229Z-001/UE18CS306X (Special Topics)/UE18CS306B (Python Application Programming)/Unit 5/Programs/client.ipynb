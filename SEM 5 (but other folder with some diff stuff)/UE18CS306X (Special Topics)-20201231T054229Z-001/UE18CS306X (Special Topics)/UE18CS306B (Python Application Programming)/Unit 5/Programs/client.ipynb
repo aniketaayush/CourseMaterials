{
 "cells": [
  {
   "cell_type": "code",
   "execution_count": 1,
   "metadata": {},
   "outputs": [
    {
     "name": "stdout",
     "output_type": "stream",
     "text": [
      "b'Thank you for connecting'\n"
     ]
    }
   ],
   "source": [
    "# Import socket module \n",
    "import socket\n",
    "\n",
    "# Create a socket object \n",
    "s = socket.socket()\n",
    "\n",
    "# Define the port on which you want to connect \n",
    "port = 123\n",
    "\n",
    "# connect to the server on local computer \n",
    "s.connect(('127.0.0.1', port)) \n",
    "\n",
    "# receive data from the server \n",
    "print(s.recv(1024))\n",
    "\n",
    "# close the connection \n",
    "s.close() \n"
   ]
  },
  {
   "cell_type": "code",
   "execution_count": null,
   "metadata": {},
   "outputs": [],
   "source": []
  },
  {
   "cell_type": "code",
   "execution_count": null,
   "metadata": {},
   "outputs": [],
   "source": []
  },
  {
   "cell_type": "code",
   "execution_count": null,
   "metadata": {},
   "outputs": [],
   "source": []
  }
 ],
 "metadata": {
  "kernelspec": {
   "display_name": "Python 3",
   "language": "python",
   "name": "python3"
  },
  "language_info": {
   "codemirror_mode": {
    "name": "ipython",
    "version": 3
   },
   "file_extension": ".py",
   "mimetype": "text/x-python",
   "name": "python",
   "nbconvert_exporter": "python",
   "pygments_lexer": "ipython3",
   "version": "3.7.9"
  }
 },
 "nbformat": 4,
 "nbformat_minor": 4
}
