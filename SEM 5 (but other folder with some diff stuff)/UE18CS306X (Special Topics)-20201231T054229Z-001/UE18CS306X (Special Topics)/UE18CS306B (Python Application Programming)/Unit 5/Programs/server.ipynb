{
 "cells": [
  {
   "cell_type": "code",
   "execution_count": null,
   "metadata": {},
   "outputs": [
    {
     "name": "stdout",
     "output_type": "stream",
     "text": [
      "Socket successfully created\n",
      "socket binded to 123\n",
      "socket is listening\n",
      "Got connection from ('127.0.0.1', 52975)\n"
     ]
    }
   ],
   "source": [
    "# first of all import the socket library \n",
    "import socket\n",
    "\n",
    "# next create a socket object \n",
    "s = socket.socket()\n",
    "print (\"Socket successfully created\")\n",
    "\n",
    "# reserve a port on your computer in our \n",
    "# case it is 12345 but it can be anything \n",
    "port = 123\n",
    "\n",
    "# Next bind to the port \n",
    "# we have not typed any ip in the ip field \n",
    "# instead we have inputted an empty string \n",
    "# this makes the server listen to requests \n",
    "# coming from other computers on the network \n",
    "s.bind(('', port))\n",
    "print (\"socket binded to %s\" %(port) )\n",
    "\n",
    "# put the socket into listening mode \n",
    "s.listen(2) \n",
    "print (\"socket is listening\")\n",
    "\n",
    "# a forever loop until we interrupt it or \n",
    "# an error occurs \n",
    "while True: \n",
    "\n",
    "# Establish connection with client. \n",
    "    c, addr = s.accept()\n",
    "    print ('Got connection from', addr )\n",
    "\n",
    "# send a thank you message to the client. \n",
    "    c.send(b'Thank you for connecting' )\n",
    "\n",
    "# Close the connection with the client \n",
    "    c.close() \n"
   ]
  },
  {
   "cell_type": "code",
   "execution_count": null,
   "metadata": {},
   "outputs": [],
   "source": []
  },
  {
   "cell_type": "code",
   "execution_count": null,
   "metadata": {},
   "outputs": [],
   "source": []
  },
  {
   "cell_type": "code",
   "execution_count": null,
   "metadata": {},
   "outputs": [],
   "source": []
  },
  {
   "cell_type": "code",
   "execution_count": null,
   "metadata": {},
   "outputs": [],
   "source": []
  }
 ],
 "metadata": {
  "kernelspec": {
   "display_name": "Python 3",
   "language": "python",
   "name": "python3"
  },
  "language_info": {
   "codemirror_mode": {
    "name": "ipython",
    "version": 3
   },
   "file_extension": ".py",
   "mimetype": "text/x-python",
   "name": "python",
   "nbconvert_exporter": "python",
   "pygments_lexer": "ipython3",
   "version": "3.7.9"
  }
 },
 "nbformat": 4,
 "nbformat_minor": 4
}
