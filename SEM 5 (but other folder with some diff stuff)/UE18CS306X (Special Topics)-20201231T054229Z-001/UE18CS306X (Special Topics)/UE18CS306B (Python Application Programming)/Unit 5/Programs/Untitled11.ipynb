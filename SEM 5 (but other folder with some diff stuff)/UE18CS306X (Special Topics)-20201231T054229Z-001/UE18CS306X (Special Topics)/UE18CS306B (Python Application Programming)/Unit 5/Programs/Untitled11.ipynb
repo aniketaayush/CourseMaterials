{
 "cells": [
  {
   "cell_type": "code",
   "execution_count": 2,
   "metadata": {},
   "outputs": [
    {
     "name": "stdout",
     "output_type": "stream",
     "text": [
      "the number of rows deleted are 1\n"
     ]
    }
   ],
   "source": [
    "import sqlite3\n",
    "conn=sqlite3.connect(\"PES.db\")\n",
    "conn.execute(\"DELETE FROM STUDENT where ID=123\")\n",
    "conn.commit()\n",
    "print(\"the number of rows deleted are\",conn.total_changes)\n",
    "cursor=conn.execute(\"SELECT * FROM STUDENT\")\n",
    "for row in cursor:\n",
    "    print(\"id=\",row[0])\n",
    "    print(\"name=\",row[1])\n",
    "    print(\"age=\",row[2])\n",
    "    \n",
    "conn.close()"
   ]
  },
  {
   "cell_type": "code",
   "execution_count": null,
   "metadata": {},
   "outputs": [],
   "source": []
  }
 ],
 "metadata": {
  "kernelspec": {
   "display_name": "Python 3",
   "language": "python",
   "name": "python3"
  },
  "language_info": {
   "codemirror_mode": {
    "name": "ipython",
    "version": 3
   },
   "file_extension": ".py",
   "mimetype": "text/x-python",
   "name": "python",
   "nbconvert_exporter": "python",
   "pygments_lexer": "ipython3",
   "version": "3.7.9"
  }
 },
 "nbformat": 4,
 "nbformat_minor": 4
}
